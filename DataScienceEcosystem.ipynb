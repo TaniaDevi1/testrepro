{
 "cells": [
  {
   "cell_type": "markdown",
   "id": "d1acdc99-ca4c-4b56-8c3e-08d964d1a24e",
   "metadata": {},
   "source": [
    "# Data Science Tools and Ecosystem"
   ]
  },
  {
   "cell_type": "markdown",
   "id": "55e785f1-7853-408b-8d1f-36200c693758",
   "metadata": {},
   "source": [
    "In this notebook, Data Science Tools and Ecosystem are summarized."
   ]
  },
  {
   "cell_type": "markdown",
   "id": "e96c70b8-eac2-402d-ba12-2ebd6a5b6806",
   "metadata": {},
   "source": [
    "**Objectives:**\n",
    "- List popular languages for Data Science.\n",
    "- Identify commonly used libraries for Data Science.\n",
    "- Introduce basic arithmetic operations in Python."
   ]
  },
  {
   "cell_type": "markdown",
   "id": "efc362c6-37a1-4e35-8699-c98ac0180a9b",
   "metadata": {},
   "source": [
    "Some of the popular languages that Data Scientists use are:\n",
    "1. Python\n",
    "2. R\n",
    "3. SQL"
   ]
  },
  {
   "cell_type": "markdown",
   "id": "39f00a54-ae86-40a1-9f1c-ae0e6575c4be",
   "metadata": {},
   "source": [
    "Some of the commonly used libraries used by Data Scientists include:\n",
    "1. NumPy\n",
    "2. Pandas\n",
    "3. Scikit-learn"
   ]
  },
  {
   "cell_type": "markdown",
   "id": "4b86f140-aeb1-4039-a807-a322bdab175b",
   "metadata": {},
   "source": [
    "| Data Science Tools |\n",
    "| --- |\n",
    "| Jupyter Notebook |\n",
    "| PyCharm |\n",
    "| VSCode |"
   ]
  },
  {
   "cell_type": "markdown",
   "id": "98dcdb27-a8a4-4693-9171-42038097d6a8",
   "metadata": {},
   "source": [
    "### Below are a few examples of evaluating arithmetic expressions in Python."
   ]
  },
  {
   "cell_type": "code",
   "execution_count": 1,
   "id": "f4bbba2b-d289-4223-a2a4-d4df5308b623",
   "metadata": {},
   "outputs": [
    {
     "data": {
      "text/plain": [
       "17"
      ]
     },
     "execution_count": 1,
     "metadata": {},
     "output_type": "execute_result"
    }
   ],
   "source": [
    "# This a simple arithmetic expression to multiply then add integers.\n",
    "(3*4)+5"
   ]
  },
  {
   "cell_type": "code",
   "execution_count": 2,
   "id": "6055e6be-1cf3-40ba-abd7-7d29671d7ee5",
   "metadata": {},
   "outputs": [
    {
     "data": {
      "text/plain": [
       "3.3333333333333335"
      ]
     },
     "execution_count": 2,
     "metadata": {},
     "output_type": "execute_result"
    }
   ],
   "source": [
    "# This will convert 200 minutes to hours by diving by 60.\n",
    "200/60"
   ]
  },
  {
   "cell_type": "markdown",
   "id": "95955eb4-2365-44fd-ad36-32d222b70ee1",
   "metadata": {},
   "source": [
    "## Author\n",
    "Tania Devi"
   ]
  },
  {
   "cell_type": "code",
   "execution_count": null,
   "id": "192d0c8e-87ea-4391-89b2-fef09bba71f6",
   "metadata": {},
   "outputs": [],
   "source": []
  }
 ],
 "metadata": {
  "kernelspec": {
   "display_name": "Python",
   "language": "python",
   "name": "conda-env-python-py"
  },
  "language_info": {
   "codemirror_mode": {
    "name": "ipython",
    "version": 3
   },
   "file_extension": ".py",
   "mimetype": "text/x-python",
   "name": "python",
   "nbconvert_exporter": "python",
   "pygments_lexer": "ipython3",
   "version": "3.7.12"
  }
 },
 "nbformat": 4,
 "nbformat_minor": 5
}
